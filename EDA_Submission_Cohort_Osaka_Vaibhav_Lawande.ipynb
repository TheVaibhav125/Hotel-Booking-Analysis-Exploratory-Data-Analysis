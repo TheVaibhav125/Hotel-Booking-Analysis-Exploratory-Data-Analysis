{
  "nbformat": 4,
  "nbformat_minor": 0,
  "metadata": {
    "colab": {
      "private_outputs": true,
      "provenance": [],
      "collapsed_sections": [
        "w6K7xa23Elo4",
        "YJ55k-q6phqO",
        "gCFgpxoyphqP",
        "OVtJsKN_phqQ",
        "lssrdh5qphqQ",
        "U2RJ9gkRphqQ",
        "1M8mcRywphqQ",
        "tgIPom80phqQ",
        "JMzcOPDDphqR",
        "x-EpHcCOp1ci",
        "X_VqEhTip1ck",
        "8zGJKyg5p1ck",
        "PVzmfK_Ep1ck",
        "n3dbpmDWp1ck",
        "ylSl6qgtp1ck",
        "ZWILFDl5p1ck",
        "M7G43BXep1ck",
        "Ag9LCva-p1cl",
        "E6MkPsBcp1cl",
        "2cELzS2fp1cl",
        "3MPXvC8up1cl",
        "YPEH6qLeZNRQ",
        "EXh0U9oCveiU",
        "22aHeOlLveiV",
        "gIfDvo9L0UH2"
      ],
      "include_colab_link": true
    },
    "kernelspec": {
      "name": "python3",
      "display_name": "Python 3"
    },
    "language_info": {
      "name": "python"
    }
  },
  "cells": [
    {
      "cell_type": "markdown",
      "metadata": {
        "id": "view-in-github",
        "colab_type": "text"
      },
      "source": [
        "<a href=\"https://colab.research.google.com/github/TheVaibhav125/Hotel-Booking-Analysis-Exploratory-Data-Analysis/blob/main/EDA_Submission_Cohort_Osaka_Vaibhav_Lawande.ipynb\" target=\"_parent\"><img src=\"https://colab.research.google.com/assets/colab-badge.svg\" alt=\"Open In Colab\"/></a>"
      ]
    },
    {
      "cell_type": "markdown",
      "source": [
        "# **Project Name**    -\n",
        "\n"
      ],
      "metadata": {
        "id": "vncDsAP0Gaoa"
      }
    },
    {
      "cell_type": "markdown",
      "source": [
        "##### **Project Type**    - EDA/Regression/Classification/Unsupervised\n",
        "##### **Contribution**    - Individual\n",
        "##### **Name**    - Vaibhav Lawande\n"
      ],
      "metadata": {
        "id": "beRrZCGUAJYm"
      }
    },
    {
      "cell_type": "markdown",
      "source": [
        "# **Project Summary -**"
      ],
      "metadata": {
        "id": "FJNUwmbgGyua"
      }
    },
    {
      "cell_type": "markdown",
      "source": [
        "aim of this project was to perform exploratory data analysis (EDA) on a hotel booking dataset in order to gain insights into customer behavior and booking patterns. This data set contains booking information for a city hotel and a resort hotel and includes information such as when the booking was made, length of stay, the number of adults, children, and/or babies, and the number of available parking spaces, among other things.First, we data processing and data manipulation which involved removing missing values, handling duplicates.Then we do Data visualization using various  graphical techniques, and we discovered several intresting insights from this.\n"
      ],
      "metadata": {
        "id": "F6v_1wHtG2nS"
      }
    },
    {
      "cell_type": "markdown",
      "source": [
        "# **GitHub Link -**"
      ],
      "metadata": {
        "id": "w6K7xa23Elo4"
      }
    },
    {
      "cell_type": "markdown",
      "source": [
        "https://github.com/TheVaibhav125/Hotel-Booking-Analysis-Exploratory-Data-Analysis.git"
      ],
      "metadata": {
        "id": "h1o69JH3Eqqn"
      }
    },
    {
      "cell_type": "markdown",
      "source": [
        "# **Problem Statement**\n"
      ],
      "metadata": {
        "id": "yQaldy8SH6Dl"
      }
    },
    {
      "cell_type": "markdown",
      "source": [
        "Have you ever considered the ideal season of the year to reserve a hotel room? Alternatively, how long should I remain to get the greatest daily rate? What if you wanted to foretell whether a hotel would unreasonably frequently receive unusual requests? You can investigate those questions using the data from hotel reservations! This data collection comprises reservation details for a city hotel and a resort hotel, as well as details like the date the reservation was made, the duration of the stay, the number of adults, kids, and/or babies, and the number of parking spaces that are available. The data is free of any information that may be used to identify an individual. Explore and assess the information to find important details\n",
        "\n"
      ],
      "metadata": {
        "id": "DpeJGUA3kjGy"
      }
    },
    {
      "cell_type": "markdown",
      "source": [
        "#### **Define Your Business Objective?**"
      ],
      "metadata": {
        "id": "PH-0ReGfmX4f"
      }
    },
    {
      "cell_type": "markdown",
      "source": [
        "\n",
        "The primary business objective of this project is to leverage the hotel booking dataset to gain valuable insights into customer behavior and booking patterns. By performing comprehensive exploratory data analysis (EDA), we aim to:\n",
        "\n",
        "1. **Identify key trends and patterns:**\n",
        "   - Understand the distribution of bookings across different seasons, weekdays, and lengths of stay.\n",
        "   - Analyze factors influencing booking decisions, such as the number of adults, children, and babies, as well as the need for parking spaces.\n",
        "\n",
        "2. **Discover hidden insights:**\n",
        "   - Uncover potential relationships between various booking characteristics and identify any unusual or unexpected patterns.\n",
        "   - Gain a deeper understanding of customer preferences and requirements to improve hotel services and marketing strategies.\n",
        "\n",
        "3. **Support decision-making:**\n",
        "   - Provide valuable insights to hotel management to optimize pricing strategies, resource allocation, and marketing campaigns.\n",
        "   - Enable informed decisions based on data-driven analysis and findings.\n",
        "\n",
        "By achieving these objectives, the business aims to enhance its understanding of customer behavior, improve operational efficiency, and ultimately increase revenue and profitability.\n"
      ],
      "metadata": {
        "id": "PhDvGCAqmjP1"
      }
    },
    {
      "cell_type": "markdown",
      "source": [
        "# **General Guidelines** : -  "
      ],
      "metadata": {
        "id": "mDgbUHAGgjLW"
      }
    },
    {
      "cell_type": "markdown",
      "source": [
        "1.   Well-structured, formatted, and commented code is required.\n",
        "2.   Exception Handling, Production Grade Code & Deployment Ready Code will be a plus. Those students will be awarded some additional credits.\n",
        "     \n",
        "     The additional credits will have advantages over other students during Star Student selection.\n",
        "       \n",
        "             [ Note: - Deployment Ready Code is defined as, the whole .ipynb notebook should be executable in one go\n",
        "                       without a single error logged. ]\n",
        "\n",
        "3.   Each and every logic should have proper comments.\n",
        "4. You may add as many number of charts you want. Make Sure for each and every chart the following format should be answered.\n",
        "        \n",
        "\n",
        "```\n",
        "# Chart visualization code\n",
        "```\n",
        "            \n",
        "\n",
        "*   Why did you pick the specific chart?\n",
        "*   What is/are the insight(s) found from the chart?\n",
        "* Will the gained insights help creating a positive business impact?\n",
        "Are there any insights that lead to negative growth? Justify with specific reason.\n",
        "\n",
        "5. You have to create at least 20 logical & meaningful charts having important insights.\n",
        "\n",
        "\n",
        "[ Hints : - Do the Vizualization in  a structured way while following \"UBM\" Rule.\n",
        "\n",
        "U - Univariate Analysis,\n",
        "\n",
        "B - Bivariate Analysis (Numerical - Categorical, Numerical - Numerical, Categorical - Categorical)\n",
        "\n",
        "M - Multivariate Analysis\n",
        " ]\n",
        "\n",
        "\n",
        "\n"
      ],
      "metadata": {
        "id": "ZrxVaUj-hHfC"
      }
    },
    {
      "cell_type": "markdown",
      "source": [
        "# ***Let's Begin !***"
      ],
      "metadata": {
        "id": "O_i_v8NEhb9l"
      }
    },
    {
      "cell_type": "markdown",
      "source": [
        "## ***1. Know Your Data***"
      ],
      "metadata": {
        "id": "HhfV-JJviCcP"
      }
    },
    {
      "cell_type": "markdown",
      "source": [
        "### Import Libraries"
      ],
      "metadata": {
        "id": "Y3lxredqlCYt"
      }
    },
    {
      "cell_type": "code",
      "source": [
        "# Import Libraries\n",
        "# Importing Libraries\n",
        "import pandas as pd\n",
        "import numpy as np\n",
        "import matplotlib.pyplot as plt\n",
        "%matplotlib inline\n",
        "import seaborn as sns\n",
        "\n",
        "# Set maximum columns to be display in datafram as 36\n",
        "pd.set_option(\"display.max_columns\", 36)\n",
        "plt.style.use('seaborn')\n",
        "\n",
        "# Setting fontsizes,fontweight,label weight for lebels,titles.\n",
        "plt.rcParams[\"font.weight\"] = \"bold\"\n",
        "plt.rcParams[\"axes.labelweight\"] = \"bold\"\n",
        "plt.rcParams[\"axes.titlesize\"] = 25\n",
        "plt.rcParams[\"axes.titleweight\"] = 'bold'\n",
        "plt.rcParams['xtick.labelsize']=15\n",
        "plt.rcParams['ytick.labelsize']=15\n",
        "plt.rcParams[\"axes.labelsize\"] = 20\n",
        "plt.rcParams[\"legend.fontsize\"] = 15\n",
        "plt.rcParams[\"legend.title_fontsize\"] = 15\n"
      ],
      "metadata": {
        "id": "M8Vqi-pPk-HR"
      },
      "execution_count": null,
      "outputs": []
    },
    {
      "cell_type": "markdown",
      "source": [
        "### Dataset Loading"
      ],
      "metadata": {
        "id": "3RnN4peoiCZX"
      }
    },
    {
      "cell_type": "code",
      "source": [
        "\n",
        "from google.colab import drive\n",
        "drive.mount('/content/drive')"
      ],
      "metadata": {
        "id": "PRYBGSSg0PTe"
      },
      "execution_count": null,
      "outputs": []
    },
    {
      "cell_type": "code",
      "source": [
        "filepath = \"/content/Hotel Bookings.csv\""
      ],
      "metadata": {
        "id": "EaeDUiSm1Zx6"
      },
      "execution_count": null,
      "outputs": []
    },
    {
      "cell_type": "code",
      "source": [
        "# Load Dataset\n",
        "hotel_data = pd.read_csv(filepath)"
      ],
      "metadata": {
        "id": "4CkvbW_SlZ_R"
      },
      "execution_count": null,
      "outputs": []
    },
    {
      "cell_type": "markdown",
      "source": [
        "### Dataset First View"
      ],
      "metadata": {
        "id": "x71ZqKXriCWQ"
      }
    },
    {
      "cell_type": "code",
      "source": [
        "# Dataset First Look\n",
        "hotel_data"
      ],
      "metadata": {
        "id": "LWNFOSvLl09H"
      },
      "execution_count": null,
      "outputs": []
    },
    {
      "cell_type": "markdown",
      "source": [
        "### Dataset Rows & Columns count"
      ],
      "metadata": {
        "id": "7hBIi_osiCS2"
      }
    },
    {
      "cell_type": "code",
      "source": [
        "# Dataset Rows & Columns count\n",
        "print(f\" We have total {hotel_data.shape[0]} rows and {hotel_data.shape[1]} coulmns\")"
      ],
      "metadata": {
        "id": "Kllu7SJgmLij"
      },
      "execution_count": null,
      "outputs": []
    },
    {
      "cell_type": "markdown",
      "source": [
        "### Dataset Information"
      ],
      "metadata": {
        "id": "JlHwYmJAmNHm"
      }
    },
    {
      "cell_type": "code",
      "source": [
        "# Dataset Info\n",
        "hotel_data.info()"
      ],
      "metadata": {
        "id": "e9hRXRi6meOf"
      },
      "execution_count": null,
      "outputs": []
    },
    {
      "cell_type": "code",
      "source": [
        "#Create Copy of Our Dataset\n",
        "\n",
        "hotel_data_copy = hotel_data.copy()"
      ],
      "metadata": {
        "id": "ptFhWoN0A_um"
      },
      "execution_count": null,
      "outputs": []
    },
    {
      "cell_type": "markdown",
      "source": [
        "#### Duplicate Values"
      ],
      "metadata": {
        "id": "35m5QtbWiB9F"
      }
    },
    {
      "cell_type": "code",
      "source": [
        "# Dataset Duplicate Value Count\n",
        "hotel_data_copy.duplicated().value_counts() #true means duplicate rows"
      ],
      "metadata": {
        "id": "1sLdpKYkmox0"
      },
      "execution_count": null,
      "outputs": []
    },
    {
      "cell_type": "markdown",
      "source": [
        "#### Missing Values/Null Values"
      ],
      "metadata": {
        "id": "PoPl-ycgm1ru"
      }
    },
    {
      "cell_type": "code",
      "source": [
        "# Missing Values/Null Values Count\n",
        "check_null_value = hotel_data_copy.isna().sum().sort_values(ascending=False)\n",
        "check_null_value"
      ],
      "metadata": {
        "id": "GgHWkxvamxVg"
      },
      "execution_count": null,
      "outputs": []
    },
    {
      "cell_type": "code",
      "source": [
        "# Visualizing the missing values by using heatmap\n",
        "plt.figure(figsize=(25,10))\n",
        "sns.heatmap(hotel_data_copy.isnull(), cbar=False, yticklabels=False ,cmap='viridis')\n",
        "plt.xlabel(\"Name Of Columns\")\n",
        "plt.title(\"Places of missing values in column\")\n"
      ],
      "metadata": {
        "id": "3q5wnI3om9sJ"
      },
      "execution_count": null,
      "outputs": []
    },
    {
      "cell_type": "markdown",
      "source": [
        "### What did you know about your dataset?"
      ],
      "metadata": {
        "id": "H0kj-8xxnORC"
      }
    },
    {
      "cell_type": "markdown",
      "source": [
        "This dataset contains information on records for client stays at hotels. More specifically, it contains booking information for a city hotel and a resort hotel, and includes information such as when the booking was made, length of stay, the number of adults, children, and/or babies, and the number of available parking spaces, among other things. For the purpose of this post, We only focused on some of these variables to examine."
      ],
      "metadata": {
        "id": "gfoNAAC-nUe_"
      }
    },
    {
      "cell_type": "markdown",
      "source": [
        "## ***2. Understanding Your Variables***"
      ],
      "metadata": {
        "id": "nA9Y7ga8ng1Z"
      }
    },
    {
      "cell_type": "code",
      "source": [
        "# Dataset Columns\n",
        "hotel_data_copy.columns"
      ],
      "metadata": {
        "id": "j7xfkqrt5Ag5"
      },
      "execution_count": null,
      "outputs": []
    },
    {
      "cell_type": "code",
      "source": [
        "# Dataset Describe looking at the min, max values,mean values etc. NAN values for mean,25% ,50%,75%,max indicates those are categorical columns.\n",
        "hotel_data_copy.describe(include='all')"
      ],
      "metadata": {
        "id": "DnOaZdaE5Q5t"
      },
      "execution_count": null,
      "outputs": []
    },
    {
      "cell_type": "markdown",
      "source": [],
      "metadata": {
        "id": "Hsijt5sC-yoN"
      }
    },
    {
      "cell_type": "markdown",
      "source": [
        "### Variables Description"
      ],
      "metadata": {
        "id": "PBTbrJXOngz2"
      }
    },
    {
      "cell_type": "markdown",
      "source": [
        "# **Data Description:**\n",
        "\n",
        "\n",
        "1.   hotel : Hotel(Resort Hotel or City Hotel)\n",
        "\n",
        "2.   is_canceled : Value indicating if the booking was canceled (1) or not (0)\n",
        "\n",
        "3.   lead_time :* Number of days that elapsed between the entering date of the booking into the PMS and the arrival date*\n",
        "\n",
        "4.   arrival_date_year : Year of arrival date\n",
        "\n",
        "5.   arrival_date_month : Month of arrival date\n",
        "\n",
        "6.   arrival_date_week_number : Week number of year for arrival date\n",
        "\n",
        "7.   arrival_date_day_of_month : Day of arrival date\n",
        "\n",
        "8.   stays_in_weekend_nights : Number of weekend nights (Saturday or Sunday) the guest stayed or booked to stay at the hotel\n",
        "\n",
        "9. stays_in_week_nights : Number of week nights (Monday to Friday) the guest stayed or booked to stay at the hotel\n",
        "\n",
        "10.  adults : Number of adults\n",
        "\n",
        "11.  children : Number of children\n",
        "\n",
        "12.   babies : Number of babies\n",
        "\n",
        "13.   meal : Type of meal booked. Categories are presented in standard hospitality meal packages:\n",
        "\n",
        "\n",
        "14.   country : Country of origin.`\n",
        "15.   market_segment : Market segment designation. In categories, the term “TA” means “Travel Agents” and “TO” means “Tour Operators”\n",
        "\n",
        "16.   distribution_channel : Booking distribution channel. The term “TA” means “Travel Agents” and “TO” means “Tour Operators”\n",
        "17.   is_repeated_guest : Value indicating if the booking name was from a repeated guest (1) or not (0)\n",
        "\n",
        "\n",
        "18.   previous_cancellations : Number of previous bookings that were cancelled by the customer prior to the current booking\n",
        "\n",
        "19.   previous_bookings_not_canceled : Number of previous bookings not cancelled by the customer prior to the current booking\n",
        "\n",
        "20.   reserved_room_type : Code of room type reserved. Code is presented instead of designation for anonymity reasons.\n",
        "\n",
        "21.   assigned_room_type : Code for the type of room assigned to the booking.\n",
        "\n",
        "22.   booking_changes : Number of changes/amendments made to the booking from the moment the booking was entered on the PMS until the moment of check-in or cancellation\n",
        "\n",
        "23.   deposit_type : Indication on if the customer made a deposit to guarantee the booking.\n",
        "\n",
        "24.   agent : ID of the travel agency that made the booking\n",
        "25.   company : ID of the company/entity that made the booking or responsible for paying the booking.\n",
        "\n",
        "26.   days_in_waiting_list : Number of days the booking was in the waiting list before it was confirmed to the customer\n",
        "\n",
        "\n",
        "27.   customer_type : Type of booking, assuming one of four categories\n",
        "\n",
        "28.   adr : Average Daily Rate as defined by dividing the sum of all lodging transactions by the total number of staying nights\n",
        "\n",
        "29.   required_car_parking_spaces : Number of car parking spaces required by the customer\n",
        "\n",
        "30.   total_of_special_requests :* Number of special requests made by the customer (e.g. twin bed or high floor)*\n",
        "\n",
        "\n",
        "31.   reservation_status : Reservation last status, assuming one of three categories\n",
        "\n",
        "\n",
        "\n",
        "*   Canceled – booking was canceled by the customer\n",
        "\n",
        "*   Check-Out – customer has checked in but already departed\n",
        "\n",
        "*   No-Show – customer did not check-in and did inform the hotel of the reason why\n",
        "  \n",
        "\n",
        "32.  reservation_status_date : Date at which the last status was set. This variable can be used in conjunction with the ReservationStatus to understand when was the booking canceled or when did the customer checked-out of the hotel\n",
        "\n",
        "\n",
        "\n",
        "\n",
        "\n",
        "\n",
        "\n",
        "\n",
        "\n",
        "\n",
        "\n",
        "\n",
        "\n",
        "\n",
        "\n",
        "\n",
        "\n"
      ],
      "metadata": {
        "id": "niWhY4NsE_1A"
      }
    },
    {
      "cell_type": "code",
      "source": [
        "# converting object type to datetime\n",
        "hotel_data_copy['reservation_status_date'] = pd.to_datetime(hotel_data_copy['reservation_status_date'], format = '%Y-%m-%d')"
      ],
      "metadata": {
        "id": "rd2jEX8J-0Fg"
      },
      "execution_count": null,
      "outputs": []
    },
    {
      "cell_type": "markdown",
      "source": [
        "### Check Unique Values for each variable."
      ],
      "metadata": {
        "id": "u3PMJOP6ngxN"
      }
    },
    {
      "cell_type": "code",
      "source": [
        "columns = hotel_data_copy.columns\n",
        "\n",
        "for col in columns:\n",
        "  print(hotel_data_copy[col].unique())\n"
      ],
      "metadata": {
        "id": "G1VyAXXENmli"
      },
      "execution_count": null,
      "outputs": []
    },
    {
      "cell_type": "code",
      "source": [
        "# Check unique values in categorical columns\n",
        "\n",
        "categorical_cols=list(set(hotel_data_copy.drop(columns=['reservation_status_date','country','arrival_date_month']).columns)-set(hotel_data_copy.describe()))\n",
        "for col in categorical_cols:\n",
        "  print(f'Unique values in variable {col} are:, {(hotel_data_copy[col].unique())}')"
      ],
      "metadata": {
        "id": "zms12Yq5n-jE"
      },
      "execution_count": null,
      "outputs": []
    },
    {
      "cell_type": "markdown",
      "source": [
        "## 3. ***Data Wrangling***"
      ],
      "metadata": {
        "id": "dauF4eBmngu3"
      }
    },
    {
      "cell_type": "markdown",
      "source": [
        "### Data Wrangling Code"
      ],
      "metadata": {
        "id": "bKJF3rekwFvQ"
      }
    },
    {
      "cell_type": "code",
      "source": [
        "#dropping the duplicate rows\n",
        "hotel_data_copy= hotel_data_copy.drop_duplicates()"
      ],
      "metadata": {
        "id": "wk-9a2fpoLcV"
      },
      "execution_count": null,
      "outputs": []
    },
    {
      "cell_type": "code",
      "source": [
        "# data set reduced\n",
        "hotel_data_copy.shape"
      ],
      "metadata": {
        "id": "Ih3Ph5HYJqDZ"
      },
      "execution_count": null,
      "outputs": []
    },
    {
      "cell_type": "markdown",
      "source": [
        "### What all manipulations have you done and insights you found?"
      ],
      "metadata": {
        "id": "MSa1f5Uengrz"
      }
    },
    {
      "cell_type": "markdown",
      "source": [
        "We Have Null values in columns- Company, agent, Country,children.\n",
        "\n",
        "1.  For company and agent I will fill the Missing values with 0\n",
        "\n",
        "2.  For country I will fill Missing values with boject 'Others'. ( assuming while collecting data country was not found so user selected the 'Others' option.)\n",
        "\n",
        "3.   As the count of missing values in Children Column is only 4, so we can replace with 0 considering no childrens.\n"
      ],
      "metadata": {
        "id": "LbyXE7I1olp8"
      }
    },
    {
      "cell_type": "code",
      "source": [
        "# Filling/replacing null values with 0.\n",
        "\n",
        "null_column = ['agent', 'children', 'company']\n",
        "for col in null_column:\n",
        "  hotel_data_copy[col].fillna(0, inplace = True)\n",
        "\n",
        "# Replacing NA values with 'others'\n",
        "\n",
        "hotel_data_copy['country'].fillna('others', inplace = True)"
      ],
      "metadata": {
        "id": "gR7WisomKsnF"
      },
      "execution_count": null,
      "outputs": []
    },
    {
      "cell_type": "code",
      "source": [
        "# droppping all 166 those rows in which addtion of of adlults ,children and babies is 0. That simply means  no bookings were made.\n",
        "len(hotel_data_copy[hotel_data_copy['adults'] + hotel_data_copy['children']+ hotel_data_copy['babies'] == 0])\n",
        "hotel_data_copy.drop(hotel_data_copy[hotel_data_copy['adults'] + hotel_data_copy['children']+ hotel_data_copy['babies'] == 0].index, inplace = True)"
      ],
      "metadata": {
        "id": "ApcopQK3Lhs-"
      },
      "execution_count": null,
      "outputs": []
    },
    {
      "cell_type": "code",
      "source": [
        "# Add New Columns\n",
        "\n",
        "hotel_data_copy ['Total_People'] = hotel_data_copy['adults'] + hotel_data_copy['children'] + hotel_data_copy['babies']\n",
        "hotel_data_copy ['Total_Stay'] = hotel_data_copy['stays_in_weekend_nights'] + hotel_data_copy['stays_in_week_nights']"
      ],
      "metadata": {
        "id": "J7fBkDniOXdh"
      },
      "execution_count": null,
      "outputs": []
    },
    {
      "cell_type": "code",
      "source": [
        "hotel_data_copy.shape"
      ],
      "metadata": {
        "id": "ZPEZ6zLxSgEd"
      },
      "execution_count": null,
      "outputs": []
    },
    {
      "cell_type": "markdown",
      "source": [
        "## ***4. Data Vizualization, Storytelling & Experimenting with charts : Understand the relationships between variables***"
      ],
      "metadata": {
        "id": "GF8Ens_Soomf"
      }
    },
    {
      "cell_type": "markdown",
      "source": [
        "# **1) Which type of hotel is mostly prefered by the guests?**"
      ],
      "metadata": {
        "id": "j5D_-7Ps2SHC"
      }
    },
    {
      "cell_type": "code",
      "source": [
        "# Chart - 1 visualization code\n",
        "# Visualizsing the by pie chart.\n",
        "hotel_data_copy['hotel'].value_counts().plot.pie(explode=[0.05, 0.05], autopct='%1.1f%%', figsize=(10,8),fontsize=20)\n",
        "plt.title('Pie Chart for Most Preffered  Hotel')"
      ],
      "metadata": {
        "id": "7v_ESjsspbW7"
      },
      "execution_count": null,
      "outputs": []
    },
    {
      "cell_type": "markdown",
      "source": [
        "# **2)What is the pecentage of cancellation?**"
      ],
      "metadata": {
        "id": "9IP453DU1zrh"
      }
    },
    {
      "cell_type": "code",
      "source": [
        "hotel_data_copy['is_canceled'].value_counts().plot.pie(explode=[0.05, 0.05], autopct='%1.1f%%', figsize=(10,8),fontsize=20)\n",
        "plt.title(\"Cancellation and non Cancellation\")"
      ],
      "metadata": {
        "id": "SBNxH1sD2dkh"
      },
      "execution_count": null,
      "outputs": []
    },
    {
      "cell_type": "markdown",
      "source": [
        "**Observation :**\n",
        "\n",
        "**0 = not cancled**\n",
        "\n",
        "**1 = canceled**\n",
        "\n",
        "**27.5 % of the bookings were cancelled.**"
      ],
      "metadata": {
        "id": "gVZoEl_f3EQp"
      }
    },
    {
      "cell_type": "markdown",
      "source": [
        "# **3) What is the Percentage of repeated guests?**"
      ],
      "metadata": {
        "id": "gvUXcqfM4ErF"
      }
    },
    {
      "cell_type": "code",
      "source": [
        "hotel_data_copy['is_repeated_guest'].value_counts().plot.pie(explode=(0.05,0.05),autopct='%1.1f%%',figsize=(12,8),fontsize=20)\n",
        "\n",
        "plt.title(\" Percentage (%) of repeated guests\")"
      ],
      "metadata": {
        "id": "ojJtBKYc36iy"
      },
      "execution_count": null,
      "outputs": []
    },
    {
      "cell_type": "markdown",
      "source": [
        "**Repeated guests are very few which only 3.9 %.**"
      ],
      "metadata": {
        "id": "ia4V_lo24SFi"
      }
    },
    {
      "cell_type": "markdown",
      "source": [
        "4) What is the percentage distribution of \"Customer Type\"?"
      ],
      "metadata": {
        "id": "fwsiYF--4evg"
      }
    },
    {
      "cell_type": "code",
      "source": [
        "hotel_data_copy['customer_type'].value_counts().plot.pie(explode=[0.05]*4,autopct='%1.1f%%',figsize=(12,8),fontsize=15,labels=None)\n",
        "\n",
        "\n",
        "labels=hotel_data_copy['customer_type'].value_counts().index.tolist()\n",
        "plt.title('% Distribution of Customer Type')\n",
        "plt.legend(bbox_to_anchor=(0.85, 1), loc='upper left', labels=labels)"
      ],
      "metadata": {
        "id": "mipimMj44bTq"
      },
      "execution_count": null,
      "outputs": []
    },
    {
      "cell_type": "markdown",
      "source": [
        "**1. Contract**\n",
        "\n",
        "**when the booking has an allotment or other type of contract associated to it**\n",
        "\n",
        "**2. Group**\n",
        "\n",
        "**when the booking is associated to a group**\n",
        "\n",
        "**3. Transient**\n",
        "\n",
        "**when the booking is not part of a group or contract, and is not associated to other transient booking**\n",
        "\n",
        "**4. Transient-party**\n",
        "\n",
        "**when the booking is transient, but is associated to at least other transient booking**"
      ],
      "metadata": {
        "id": "66OG2eFC44p8"
      }
    },
    {
      "cell_type": "markdown",
      "source": [
        "##### 1. Why did you pick the specific chart?"
      ],
      "metadata": {
        "id": "K5QZ13OEpz2H"
      }
    },
    {
      "cell_type": "markdown",
      "source": [
        "#**Pie charts** are ideal for showing the relative proportions of different categories within a dataset. In this case, we wanted to visualize the distribution of hotel preferences among customers."
      ],
      "metadata": {
        "id": "XESiWehPqBRc"
      }
    },
    {
      "cell_type": "markdown",
      "source": [
        "##### 2. What is/are the insight(s) found from the chart?"
      ],
      "metadata": {
        "id": "lQ7QKXXCp7Bj"
      }
    },
    {
      "cell_type": "markdown",
      "source": [
        "**Insights get from the Chart**\n",
        "\n",
        "1. City Hotel is most preffered hotel by guests. Thus city hotels has maximum bookings.\n",
        "\n",
        "2. 27.5 % of the bookings were cancelled.\n",
        "\n",
        "3. In order to retained the guests management should take feedbacks from guests and try to imporve the services.\n",
        "\n",
        "4. Transient customer type is more whcih is 82.4 %. percentage of Booking associated by the Group is vey low."
      ],
      "metadata": {
        "id": "C_j1G7yiqdRP"
      }
    },
    {
      "cell_type": "markdown",
      "source": [
        "##### 3. Will the gained insights help creating a positive business impact?\n",
        "Are there any insights that lead to negative growth? Justify with specific reason."
      ],
      "metadata": {
        "id": "448CDAPjqfQr"
      }
    },
    {
      "cell_type": "markdown",
      "source": [
        "\n",
        "\n",
        "Yes, the gained insights can help create a positive business impact.\n",
        "\n",
        "1. **Understanding customer preferences:** Knowing that City Hotel is more preferred by guests can help the business focus on improving the services and amenities offered at that hotel to attract even more customers.\n",
        "\n",
        "\n",
        "2. **Addressing cancellation rates:** The high cancellation rate of 27.5% indicates a need to investigate the reasons behind these cancellations and implement strategies to reduce them. This could involve improving communication with customers during the booking process, offering more flexible cancellation policies, or providing additional incentives for guests to follow through with their reservations.\n",
        "\n",
        "\n",
        "3. **Encouraging repeat business:** The low percentage of repeat guests (3.9%) suggests that the business may not be doing enough to encourage repeat visits. Implementing loyalty programs, offering discounts or special promotions to repeat guests, and providing excellent customer service can all help to increase the number of repeat bookings.\n",
        "\n",
        "\n",
        "4. **Optimizing customer type distribution:** The high percentage of transient customers (82.4%) indicates that the business is primarily attracting individual travelers. While this is not necessarily a negative, it may be beneficial to explore ways to attract more group bookings, which can often be more profitable. This could involve partnering with tour operators or travel agents, offering special rates for groups, or creating packages that are specifically tailored to groups.\n",
        "\n",
        "Overall, the insights gained from the data can help the business make informed decisions about how to improve its services, attract more customers, and increase profitability."
      ],
      "metadata": {
        "id": "3cspy4FjqxJW"
      }
    },
    {
      "cell_type": "markdown",
      "source": [
        "# **Which Agent made the most bookings?**"
      ],
      "metadata": {
        "id": "MrNexpfp6xGm"
      }
    },
    {
      "cell_type": "code",
      "source": [
        "# return highest bookings made by agents\n",
        "highest_bookings= hotel_data_copy.groupby(['agent'])['agent'].agg({'count'}).reset_index().rename(columns={'count': \"Most_Bookings\" }).sort_values(by='Most_Bookings',ascending=False)\n",
        "\n",
        "# as agent 0 was NAN value and we replaced it with 0 and indicates no bookings.so droping.\n",
        "highest_bookings.drop(highest_bookings[highest_bookings['agent']==0].index,inplace=True)\n",
        "\n",
        "# taking top 10 bookings made by agent\n",
        "top_ten_highest_bookings=highest_bookings[:10]\n",
        "\n",
        "top_ten_highest_bookings"
      ],
      "metadata": {
        "id": "JNP616eo6zpJ"
      },
      "execution_count": null,
      "outputs": []
    },
    {
      "cell_type": "code",
      "source": [
        "#Visualizaing the graph\n",
        "\n",
        "plt.figure(figsize=(18,8))\n",
        "sns.barplot(x=top_ten_highest_bookings['agent'],y=top_ten_highest_bookings['Most_Bookings'],order=top_ten_highest_bookings['agent'])\n",
        "plt.xlabel('Agent No')\n",
        "plt.ylabel('Number of Bookings')\n",
        "plt.title(\"Most Bookings Made by the agent\")"
      ],
      "metadata": {
        "id": "R4YgtaqtYklH"
      },
      "execution_count": null,
      "outputs": []
    },
    {
      "cell_type": "markdown",
      "source": [
        "##### 1. Why did you pick the specific chart?"
      ],
      "metadata": {
        "id": "t6dVpIINYklI"
      }
    },
    {
      "cell_type": "markdown",
      "source": [
        "A bar chart was chosen to visualize the number of bookings made by each agent because it is an effective way to compare the values of different categories. The bars represent the number of bookings, and the labels on the x-axis represent the agents. This makes it easy to see which agents have made the most bookings.\n"
      ],
      "metadata": {
        "id": "5aaW0BYyYklI"
      }
    },
    {
      "cell_type": "markdown",
      "source": [
        "##### 2. What is/are the insight(s) found from the chart?"
      ],
      "metadata": {
        "id": "ijmpgYnKYklI"
      }
    },
    {
      "cell_type": "markdown",
      "source": [
        "**Insights:**\n",
        "\n",
        "- Agent 9 made the most bookings, followed by Agent 14 and Agent 25.\n",
        "- The top 10 agents accounted for a significant portion of the total bookings.\n",
        "- There is a large disparity in the number of bookings made by different agents.\n",
        "\n",
        "**Implications:**\n",
        "\n",
        "- The business could consider providing incentives or rewards to agents who consistently make a high number of bookings.\n",
        "- The business could also explore ways to attract more bookings from agents who are currently making fewer bookings.\n",
        "- The business could analyze the booking patterns of the top agents to identify best practices that could be shared with other agents."
      ],
      "metadata": {
        "id": "PSx9atu2YklI"
      }
    },
    {
      "cell_type": "markdown",
      "source": [
        "##### 3. Will the gained insights help creating a positive business impact?\n",
        "Are there any insights that lead to negative growth? Justify with specific reason."
      ],
      "metadata": {
        "id": "-JiQyfWJYklI"
      }
    },
    {
      "cell_type": "markdown",
      "source": [
        "Yes, the gained insights can help create a positive business impact:\n",
        "\n",
        "1. **Identifying top-performing agents:** Knowing which agents are making the most bookings can help the business recognize and reward their top performers. This could involve providing them with additional incentives, such as bonuses or commissions, or giving them more opportunities for professional development.\n",
        "2. **Optimizing agent performance:** The data can be used to identify areas where certain agents may need additional training or support. For example, if an agent has a high cancellation rate, the business can provide them with additional training on how to handle customer inquiries and reservations more effectively.\n",
        "3. **Improving customer service:** The data can also be used to identify trends in customer behavior and preferences. For example, if a particular agent is receiving a lot of positive feedback from customers, the business can learn from their approach and implement similar practices across the team.\n",
        "4. **Identifying opportunities for growth:** The data can be used to identify potential areas for growth. For example, if a particular agent is consistently booking a high number of guests from a specific country, the business can explore ways to target more customers from that country.\n",
        "\n",
        "There are no insights that lead to negative growth. The data provides valuable information that can be used to improve agent performance, customer service, and overall business growth."
      ],
      "metadata": {
        "id": "BcBbebzrYklV"
      }
    },
    {
      "cell_type": "markdown",
      "source": [
        "# **From which country the most guests are coming?**"
      ],
      "metadata": {
        "id": "hSf7-94xCEuV"
      }
    },
    {
      "cell_type": "code",
      "source": [
        "#importing the folium library\n",
        "#Python library that helps you create several types of Leaflet maps\n",
        "import folium\n",
        "import plotly.express as px"
      ],
      "metadata": {
        "id": "lC9pi7XX_QUr"
      },
      "execution_count": null,
      "outputs": []
    },
    {
      "cell_type": "code",
      "source": [
        "# Counting the guests from various countries.\n",
        "country_df=hotel_data_copy['country'].value_counts().reset_index().rename(columns={'index': 'country','country': 'count of guests'})[:10]\n",
        "# country_df1=df1['country'].value_counts().reset_index().rename(columns={'index': 'country','country': 'count of guests'})\n"
      ],
      "metadata": {
        "id": "7EdSllydA9rA"
      },
      "execution_count": null,
      "outputs": []
    },
    {
      "cell_type": "code",
      "source": [
        "basemap = folium.Map()\n",
        "guests_map = px.choropleth(country_df, locations = country_df['country'],color = country_df['count of guests'], hover_name = country_df['country'])\n",
        "guests_map.show()"
      ],
      "metadata": {
        "id": "t6GMdE67YoAp"
      },
      "execution_count": null,
      "outputs": []
    },
    {
      "cell_type": "markdown",
      "source": [
        "##### 1. Why did you pick the specific chart?"
      ],
      "metadata": {
        "id": "fge-S5ZAYoAp"
      }
    },
    {
      "cell_type": "markdown",
      "source": [
        "I chose the pie chart for the following reasons:\n",
        "\n",
        "* It is a simple and easy-to-understand chart that can be used to visualize the relative proportions of different categories within a dataset.\n",
        "* It is particularly well-suited for visualizing the distribution of hotel preferences among customers, as it allows us to see at a glance which hotel is the most popular.\n",
        "* The pie chart also makes it easy to compare the different categories to each other, and to see how they contribute to the overall distribution.\n",
        "\n",
        "Overall, I believe that the pie chart is the most effective way to visualize the data in this case, as it provides a clear and concise representation of the distribution of hotel preferences among customers."
      ],
      "metadata": {
        "id": "5dBItgRVYoAp"
      }
    },
    {
      "cell_type": "markdown",
      "source": [
        "##### 2. What is/are the insight(s) found from the chart?"
      ],
      "metadata": {
        "id": "85gYPyotYoAp"
      }
    },
    {
      "cell_type": "markdown",
      "source": [
        "**Insights:**\n",
        "\n",
        "- The map shows the top 10 countries with the highest number of guests.\n",
        "- The United Kingdom, Germany, France, and Spain are the top 4 countries with the most guests.\n",
        "- The United States, Italy, Portugal, Brazil, and Ireland are also popular countries of origin for guests.\n",
        "\n",
        "**Implications:**\n",
        "\n",
        "- The business could focus its marketing efforts on these countries to attract more guests.\n",
        "- The business could also consider developing targeted promotions or packages for guests from these countries.\n",
        "- The business could also explore ways to improve its services and amenities to better meet the needs of guests from these countries."
      ],
      "metadata": {
        "id": "4jstXR6OYoAp"
      }
    },
    {
      "cell_type": "markdown",
      "source": [
        "##### 3. Will the gained insights help creating a positive business impact?\n",
        "Are there any insights that lead to negative growth? Justify with specific reason."
      ],
      "metadata": {
        "id": "RoGjAbkUYoAp"
      }
    },
    {
      "cell_type": "markdown",
      "source": [
        "Yes, the gained insights can help create a positive business impact by:\n",
        "\n",
        "- Identifying key markets: The data can be used to identify the countries that are sending the most guests to the hotel. This information can be used to tailor marketing and advertising campaigns to these key markets.\n",
        "- Developing targeted promotions: The data can also be used to develop targeted promotions for guests from specific countries. For example, the hotel could offer discounts or special packages to guests from countries that are showing strong growth in terms of guest arrivals.\n",
        "- Improving customer service: The data can be used to identify areas where the hotel can improve its customer service for guests from specific countries. For example, if guests from a particular country are frequently complaining about the language skills of the hotel staff, the hotel could provide additional training for its staff in that language.\n",
        "\n",
        "There are no insights that lead to negative growth. The data provides valuable information that can be used to improve the hotel's marketing, promotions, and customer service efforts, which can all lead to increased revenue and profitability."
      ],
      "metadata": {
        "id": "zfJ8IqMcYoAp"
      }
    },
    {
      "cell_type": "code",
      "source": [
        "#set plotsize\n",
        "plt.figure(figsize=(18,8))\n",
        "\n",
        "#plotting\n",
        "sns.countplot(x=hotel_data_copy['assigned_room_type'],order=hotel_data_copy['assigned_room_type'].value_counts().index)\n",
        "#  set xlabel for the plot\n",
        "plt.xlabel('Room Type')\n",
        "# set y label for the plot\n",
        "plt.ylabel('Count of Room Type')\n",
        "#set title for the plot\n",
        "plt.title(\"Most preferred Room type\")"
      ],
      "metadata": {
        "id": "irlUoxc8YrdO"
      },
      "execution_count": null,
      "outputs": []
    },
    {
      "cell_type": "markdown",
      "source": [
        "##### 1. Why did you pick the specific chart?"
      ],
      "metadata": {
        "id": "iky9q4vBYrdO"
      }
    },
    {
      "cell_type": "markdown",
      "source": [
        "The specific chart chosen for this task is a bar chart, which is a suitable choice for visualizing the count of room types. Bar charts are effective in comparing the frequencies of different categories, making it easy to see which room types are most preferred by guests. Additionally, the bar chart provides a clear and organized representation of the data, allowing viewers to quickly grasp the key insights."
      ],
      "metadata": {
        "id": "aJRCwT6DYrdO"
      }
    },
    {
      "cell_type": "markdown",
      "source": [
        "##### 2. What is/are the insight(s) found from the chart?"
      ],
      "metadata": {
        "id": "F6T5p64dYrdO"
      }
    },
    {
      "cell_type": "markdown",
      "source": [
        "**Insights:**\n",
        "\n",
        "- The most preferred room type is A, followed by B, C, D, E, F, G, H, I, and K.\n",
        "- There is a significant difference in the number of bookings for different room types.\n",
        "- Room types A and B are the most popular, while room types H, I, and K are the least popular.\n",
        "\n",
        "**Implications:**\n",
        "\n",
        "- The hotel could consider increasing the number of rooms of type A and B to meet the high demand.\n",
        "- The hotel could also explore ways to make room types H, I, and K more appealing to guests.\n",
        "- The hotel could also analyze the booking patterns for different room types to identify any trends or patterns that could be used to improve room allocation and revenue management."
      ],
      "metadata": {
        "id": "Xx8WAJvtYrdO"
      }
    },
    {
      "cell_type": "markdown",
      "source": [
        "##### 3. Will the gained insights help creating a positive business impact?\n",
        "Are there any insights that lead to negative growth? Justify with specific reason."
      ],
      "metadata": {
        "id": "y-Ehk30pYrdP"
      }
    },
    {
      "cell_type": "markdown",
      "source": [
        "Yes, the gained insights can help create a positive business impact by:\n",
        "\n",
        "- Identifying customer preferences: The data shows that the most preferred room type is A, followed by B, C, D, E, F, G, and H. This information can be used to ensure that the hotel has a sufficient supply of these room types to meet customer demand.\n",
        "- Improving customer satisfaction: By understanding which room types are most popular, the hotel can make sure that these rooms are well-maintained and equipped with the amenities that guests expect. This can lead to improved customer satisfaction and repeat business.\n",
        "- Optimizing pricing: The data can also be used to optimize pricing for different room types. For example, the hotel may be able to charge a higher rate for room type A since it is the most popular.\n",
        "- Increasing revenue: By understanding customer preferences and optimizing pricing, the hotel can increase its revenue and profitability.\n",
        "\n",
        "There are no insights that lead to negative growth. The data provides valuable information that can be used to improve the hotel's operations and increase its profitability."
      ],
      "metadata": {
        "id": "jLNxxz7MYrdP"
      }
    },
    {
      "cell_type": "markdown",
      "source": [
        "# **In which month most of the bookings happened?**"
      ],
      "metadata": {
        "id": "1fq9eQxhDInC"
      }
    },
    {
      "cell_type": "code",
      "source": [
        "# groupby arrival_date_month and taking the hotel count\n",
        "bookings_by_months_df=hotel_data_copy.groupby(['arrival_date_month'])['hotel'].count().reset_index().rename(columns={'hotel':\"Counts\"})\n",
        "\n",
        "# Create list of months in order\n",
        "months = ['January', 'February', 'March', 'April', 'May', 'June', 'July', 'August', 'September', 'October', 'November', 'December']\n",
        "\n",
        "# creating df which will map the order of above months list without changing its values.\n",
        "bookings_by_months_df['arrival_date_month']=pd.Categorical(bookings_by_months_df['arrival_date_month'],categories=months,ordered=True)\n",
        "\n",
        "# sorting by arrival_date_month\n",
        "bookings_by_months_df=bookings_by_months_df.sort_values('arrival_date_month')\n",
        "\n",
        "bookings_by_months_df"
      ],
      "metadata": {
        "id": "TIJwrbroYuh3"
      },
      "execution_count": null,
      "outputs": []
    },
    {
      "cell_type": "code",
      "source": [
        "# set plot size\n",
        "plt.figure(figsize=(20,8))\n",
        "\n",
        "#pltting lineplot on x- months & y- booking counts\n",
        "sns.lineplot(x=bookings_by_months_df['arrival_date_month'],y=bookings_by_months_df['Counts'])\n",
        "\n",
        "# set title for the plot\n",
        "plt.title('Number of bookings across each month')\n",
        "#set x label\n",
        "plt.xlabel('Month')\n",
        "#set y label\n",
        "plt.ylabel('Number of bookings')\n"
      ],
      "metadata": {
        "id": "AGbcZ6G7DwRS"
      },
      "execution_count": null,
      "outputs": []
    },
    {
      "cell_type": "markdown",
      "source": [
        "##### 1. Why did you pick the specific chart?"
      ],
      "metadata": {
        "id": "QHF8YVU7Yuh3"
      }
    },
    {
      "cell_type": "markdown",
      "source": [
        " The line chart was chosen to visualize the number of bookings across each month because it is an effective way to show trends over time. The line chart clearly shows the rise and fall in the number of bookings throughout the year, making it easy to identify peak and off-peak seasons. Additionally, the line chart allows for easy comparison of the number of bookings in different months."
      ],
      "metadata": {
        "id": "dcxuIMRPYuh3"
      }
    },
    {
      "cell_type": "markdown",
      "source": [
        "##### 2. What is/are the insight(s) found from the chart?"
      ],
      "metadata": {
        "id": "GwzvFGzlYuh3"
      }
    },
    {
      "cell_type": "markdown",
      "source": [
        "**Insights:**\n",
        "\n",
        "- Most of the bookings happened in the month of August.\n",
        "- Bookings are high during summer season.\n",
        "- There is a significant increase in bookings from June to August.\n",
        "- Bookings are low during off-season months like January and February.\n",
        "\n",
        "**Implications:**\n",
        "\n",
        "- The hotel could consider offering special promotions or discounts during the off-season months to attract more guests.\n",
        "- The hotel could also explore ways to extend the summer season by offering activities or amenities that are appealing to guests even in the shoulder months of May and September.\n",
        "- The hotel could also analyze the booking patterns for different months to identify any trends or patterns that could be used to improve room allocation and revenue management."
      ],
      "metadata": {
        "id": "uyqkiB8YYuh3"
      }
    },
    {
      "cell_type": "markdown",
      "source": [
        "##### 3. Will the gained insights help creating a positive business impact?\n",
        "Are there any insights that lead to negative growth? Justify with specific reason."
      ],
      "metadata": {
        "id": "qYpmQ266Yuh3"
      }
    },
    {
      "cell_type": "markdown",
      "source": [
        "Yes, the gained insights can help create a positive business impact by:\n",
        "\n",
        "- Identifying seasonal trends: The data shows that there are clear seasonal trends in hotel bookings, with peaks in the summer months (June, July, and August) and troughs in the winter months (January, February, and March). This information can be used to adjust staffing levels, marketing campaigns, and pricing strategies accordingly.\n",
        "- Optimizing pricing: The data can also be used to optimize pricing for different months. For example, the hotel may be able to charge higher rates during peak season and lower rates during off-peak season.\n",
        "- Increasing revenue: By understanding seasonal trends and optimizing pricing, the hotel can increase its revenue and profitability.\n",
        "\n",
        "There are no insights that lead to negative growth. The data provides valuable information that can be used to improve the hotel's operations and increase its profitability."
      ],
      "metadata": {
        "id": "_WtzZ_hCYuh4"
      }
    },
    {
      "cell_type": "code",
      "source": [
        "canceled_df=hotel_data_copy[hotel_data_copy['is_canceled']==1] # 1= canceled\n",
        "\n",
        "#group by distribution channel\n",
        "canceled_df=canceled_df.groupby(['distribution_channel','hotel']).size().reset_index().rename(columns={0:'Counts'})\n",
        "# canceled_df['Percentage']=canceled_df['Counts']*100/df1[df1['is_canceled']==1][0]\n",
        "canceled_df\n",
        "\n",
        "#set plot size and plot barchart\n",
        "plt.figure(figsize=(12,8))\n",
        "sns.barplot(x='distribution_channel',y='Counts',hue=\"hotel\",data=canceled_df)\n",
        "\n",
        "# set labels\n",
        "plt.xlabel('Distribution channel')\n",
        "plt.ylabel('counts')\n",
        "plt.title('Cancellation Rate Vs Distribution channel')\n"
      ],
      "metadata": {
        "id": "kuRf4wtuphqN"
      },
      "execution_count": null,
      "outputs": []
    },
    {
      "cell_type": "markdown",
      "source": [
        "##### 1. Why did you pick the specific chart?"
      ],
      "metadata": {
        "id": "bbFf2-_FphqN"
      }
    },
    {
      "cell_type": "markdown",
      "source": [
        "- It is a simple and easy-to-understand chart that can be used to visualize the relative frequencies of different categories within a dataset.\n",
        "- It is particularly well-suited for visualizing the distribution of cancellations across different distribution channels, as it allows us to see at a glance which channels have the highest cancellation rates.\n",
        "- The bar chart also makes it easy to compare the different categories to each other, and to see how they contribute to the overall distribution of cancellations.\n",
        "\n",
        "Overall, I believe that the bar chart is the most effective way to visualize the data in this case, as it provides a clear and concise representation of the distribution of cancellations across different distribution channels.\n"
      ],
      "metadata": {
        "id": "loh7H2nzphqN"
      }
    },
    {
      "cell_type": "markdown",
      "source": [
        "##### 2. What is/are the insight(s) found from the chart?"
      ],
      "metadata": {
        "id": "_ouA3fa0phqN"
      }
    },
    {
      "cell_type": "markdown",
      "source": [
        "**Insights:**\n",
        "\n",
        "- The most cancellations are made through the TA/TO distribution channel.\n",
        "- Hotel B has the highest number of cancellations across all distribution channels.\n",
        "- Hotel A has the lowest number of cancellations across all distribution channels.\n",
        "\n",
        "**Implications:**\n",
        "\n",
        "- The hotel could investigate the reasons why guests are canceling their reservations through the TA/TO distribution channel.\n",
        "- The hotel could also explore ways to improve the customer experience for guests who book through the TA/TO distribution channel.\n",
        "- The hotel could also consider offering incentives or discounts to guests who book directly through the hotel's website or call center."
      ],
      "metadata": {
        "id": "VECbqPI7phqN"
      }
    },
    {
      "cell_type": "markdown",
      "source": [
        "##### 3. Will the gained insights help creating a positive business impact?\n",
        "Are there any insights that lead to negative growth? Justify with specific reason."
      ],
      "metadata": {
        "id": "Seke61FWphqN"
      }
    },
    {
      "cell_type": "markdown",
      "source": [
        "Yes, the gained insights can help create a positive business impact by:\n",
        "\n",
        "* Identifying high-risk channels: The data shows that certain distribution channels have a higher cancellation rate than others. This information can be used to identify high-risk channels and take steps to reduce the number of cancellations from these channels.\n",
        "* Improving customer service: The data can also be used to improve customer service for guests who book through high-risk channels. For example, the hotel could provide additional support or communication to guests who book through these channels to help reduce the likelihood of cancellations.\n",
        "* Optimizing marketing campaigns: The data can also be used to optimize marketing campaigns for different distribution channels. For example, the hotel could focus on promoting lower-risk channels or offering incentives to guests who book through these channels.\n",
        "\n",
        "There are no insights that lead to negative growth. The data provides valuable information that can be used to improve the hotel's operations and increase its profitability."
      ],
      "metadata": {
        "id": "DW4_bGpfphqN"
      }
    },
    {
      "cell_type": "markdown",
      "source": [
        "# **Correlation of the columns**"
      ],
      "metadata": {
        "id": "B9BXOFWQGVkM"
      }
    },
    {
      "cell_type": "code",
      "source": [
        "plt.figure(figsize=(18,10))\n",
        "sns.heatmap(hotel_data_copy.corr(),annot=True)\n",
        "plt.title('Co-relation of the columns')"
      ],
      "metadata": {
        "id": "lqAIGUfyphqO"
      },
      "execution_count": null,
      "outputs": []
    },
    {
      "cell_type": "markdown",
      "source": [
        "##### 1. Why did you pick the specific chart?"
      ],
      "metadata": {
        "id": "t27r6nlMphqO"
      }
    },
    {
      "cell_type": "markdown",
      "source": [
        "The specific chart chosen for this task is a heatmap, which is a suitable choice for visualizing the correlation between different columns in a dataset. A heatmap is a graphical representation of data where the individual values contained in a matrix are represented as colors. This allows for the easy identification of patterns and relationships between different variables. In this case, the heatmap effectively shows the correlation between different columns of the hotel_data_copy dataframe.\n"
      ],
      "metadata": {
        "id": "iv6ro40sphqO"
      }
    },
    {
      "cell_type": "markdown",
      "source": [
        "##### 2. What is/are the insight(s) found from the chart?"
      ],
      "metadata": {
        "id": "r2jJGEOYphqO"
      }
    },
    {
      "cell_type": "markdown",
      "source": [
        "**Insights:**\n",
        "\n",
        "- There is a strong positive correlation between the number of adults and the number of children.\n",
        "- There is a strong positive correlation between the number of adults and the number of babies.\n",
        "- There is a moderate positive correlation between the number of adults and the number of people.\n",
        "- There is a strong positive correlation between the number of children and the number of babies.\n",
        "- There is a moderate positive correlation between the number of children and the number of people.\n",
        "- There is a moderate positive correlation between the number of babies and the number of people.\n",
        "- There is a strong positive correlation between the number of adults and the price of the hotel.\n",
        "- There is a moderate positive correlation between the number of children and the price of the hotel.\n",
        "- There is a moderate positive correlation between the number of babies and the price of the hotel.\n",
        "- There is a strong positive correlation between the number of people and the price of the hotel.\n",
        "- There is a strong positive correlation between the is_canceled and lead_time.\n",
        "- There is a moderate negative correlation between the is_canceled and previous_cancellations.\n",
        "- There is a moderate negative correlation between the is_canceled and previous_bookings_not_canceled.\n",
        "- There is a strong negative correlation between the is_canceled and booking_changes.\n",
        "- There is a strong negative correlation between the is_canceled and days_in_waiting_list.\n",
        "- There is a strong negative correlation between the is_canceled and required_car_parking_spaces.\n",
        "- There is a strong negative correlation between the is_canceled and total_of_special_requests.\n",
        "\n",
        "**Implications:**\n",
        "\n",
        "- The hotel could consider offering discounts or packages for families with children.\n",
        "- The hotel could also consider offering incentives or discounts to guests who book directly through the hotel's website or call center.\n",
        "- The hotel could also explore ways to reduce the number of cancellations by offering more flexible cancellation policies or by providing guests with more information about the hotel and its amenities.\n",
        "- The hotel could also consider offering additional services or amenities to guests who book through high-risk channels.\n",
        "- The hotel could also explore ways to improve the customer experience for guests who book through high-risk channels.\n",
        "\n",
        "Overall, the heatmap provides valuable insights into the relationships between different variables in the hotel booking dataset. This information can be used to improve the hotel's operations and increase its profitability."
      ],
      "metadata": {
        "id": "Po6ZPi4hphqO"
      }
    },
    {
      "cell_type": "markdown",
      "source": [
        "##### 3. Will the gained insights help creating a positive business impact?\n",
        "Are there any insights that lead to negative growth? Justify with specific reason."
      ],
      "metadata": {
        "id": "b0JNsNcRphqO"
      }
    },
    {
      "cell_type": "markdown",
      "source": [
        "Yes, the gained insights can help create a positive business impact by:\n",
        "\n",
        "* Identifying relationships between variables: The heatmap shows the correlations between different variables in the dataset. This information can be used to identify relationships between variables that may not be immediately apparent. For example, the heatmap shows that there is a strong positive correlation between the number of adults and the number of children in a booking. This information could be used to develop targeted marketing campaigns or pricing strategies for families.\n",
        "* Improving forecasting and decision-making: The heatmap can also be used to improve forecasting and decision-making. For example, the heatmap shows that there is a strong positive correlation between the average daily rate and the occupancy rate. This information could be used to forecast future occupancy rates and adjust pricing strategies accordingly.\n",
        "* Identifying areas for improvement: The heatmap can also be used to identify areas for improvement. For example, the heatmap shows that there is a weak positive correlation between the customer country and the hotel type. This information could be used to improve marketing campaigns or customer service for guests from different countries.\n",
        "\n",
        "There are no insights that lead to negative growth. The data provides valuable information that can be used to improve the hotel's operations and increase its profitability."
      ],
      "metadata": {
        "id": "xvSq8iUTphqO"
      }
    },
    {
      "cell_type": "markdown",
      "source": [
        "#### Chart - 8"
      ],
      "metadata": {
        "id": "BZR9WyysphqO"
      }
    },
    {
      "cell_type": "markdown",
      "source": [
        "# **Relationship between  adr and total stay**"
      ],
      "metadata": {
        "id": "QkiU9cr5HUzI"
      }
    },
    {
      "cell_type": "code",
      "source": [
        "# Chart - 8 visualization code\n",
        "hotel_data_copy.drop(hotel_data_copy[hotel_data_copy['adr'] > 5000].index, inplace = True)"
      ],
      "metadata": {
        "id": "TdPTWpAVphqO"
      },
      "execution_count": null,
      "outputs": []
    },
    {
      "cell_type": "code",
      "source": [
        "plt.figure(figsize=(16,8))\n",
        "sns.scatterplot(x=hotel_data_copy['Total_Stay'],y=hotel_data_copy['adr'])\n",
        "plt.title('Relationship between  adr and total stay')"
      ],
      "metadata": {
        "id": "B4S9nCHVHezK"
      },
      "execution_count": null,
      "outputs": []
    },
    {
      "cell_type": "markdown",
      "source": [
        "##### 1. Why did you pick the specific chart?"
      ],
      "metadata": {
        "id": "jj7wYXLtphqO"
      }
    },
    {
      "cell_type": "markdown",
      "source": [
        "The scatter plot is a suitable choice for visualizing the relationship between two continuous variables, in this case, the average daily rate (adr) and the total stay. The scatter plot allows for the identification of patterns and trends in the data, such as whether there is a positive or negative correlation between the two variables and whether there are any outliers.\n",
        "\n",
        "In this specific case, the scatter plot shows that there is a positive correlation between the adr and the total stay, meaning that as the total stay increases, the adr also tends to increase. This information could be useful for the hotel in setting pricing strategies and understanding the spending habits of its guests.\n",
        "\n",
        "Additionally, the scatter plot also reveals the presence of some outliers, which are data points that are significantly different from the rest of the data. These outliers could be further investigated to understand the reasons behind their high adr or total stay.\n"
      ],
      "metadata": {
        "id": "Ob8u6rCTphqO"
      }
    },
    {
      "cell_type": "markdown",
      "source": [
        "##### 2. What is/are the insight(s) found from the chart?"
      ],
      "metadata": {
        "id": "eZrbJ2SmphqO"
      }
    },
    {
      "cell_type": "markdown",
      "source": [
        "**Insights:**\n",
        "\n",
        "- There is a positive correlation between the average daily rate (ADR) and the total stay. This means that guests who stay at the hotel for longer periods of time tend to pay a higher average daily rate.\n",
        "- There are a few outliers where guests paid a high ADR for a short stay. These outliers may represent guests who booked a luxury suite or who were willing to pay a premium for a short stay.\n",
        "- The majority of guests paid an ADR of less than $200 per night, regardless of their total stay. This suggests that the hotel may be able to attract more guests by offering lower rates.\n",
        "\n",
        "**Implications:**\n",
        "\n",
        "- The hotel could consider offering discounts or packages for guests who book longer stays.\n",
        "- The hotel could also consider offering incentives or discounts to guests who book directly through the hotel's website or call center.\n",
        "- The hotel could also explore ways to reduce the number of cancellations by offering more flexible cancellation policies or by providing guests with more information about the hotel and its amenities.\n",
        "- The hotel could also consider offering additional services or amenities to guests who book through high-risk channels.\n",
        "- The hotel could also explore ways to improve the customer experience for guests who book through high-risk channels.\n",
        "\n",
        "Overall, the scatterplot provides valuable insights into the relationship between the average daily rate and the total stay. This information can be used to improve the hotel's operations and increase its profitability."
      ],
      "metadata": {
        "id": "mZtgC_hjphqO"
      }
    },
    {
      "cell_type": "markdown",
      "source": [
        "##### 3. Will the gained insights help creating a positive business impact?\n",
        "Are there any insights that lead to negative growth? Justify with specific reason."
      ],
      "metadata": {
        "id": "rFu4xreNphqO"
      }
    },
    {
      "cell_type": "markdown",
      "source": [
        "Yes, the gained insights can help create a positive business impact by:\n",
        "\n",
        "* Identifying trends: The scatterplot shows the relationship between the average daily rate (ADR) and the total stay of guests. This information can be used to identify trends, such as whether guests who stay longer tend to pay a higher or lower ADR.\n",
        "* Optimizing pricing: The scatterplot can also be used to optimize pricing. For example, the hotel could consider offering discounts to guests who stay for longer periods of time.\n",
        "* Improving customer satisfaction: The scatterplot can also be used to improve customer satisfaction. For example, the hotel could consider offering additional amenities or services to guests who stay for longer periods of time.\n",
        "\n",
        "There are no insights that lead to negative growth. The data provides valuable information that can be used to improve the hotel's operations and increase its profitability."
      ],
      "metadata": {
        "id": "ey_0qi68phqO"
      }
    },
    {
      "cell_type": "markdown",
      "source": [
        "## **5. Solution to Business Objective**"
      ],
      "metadata": {
        "id": "JcMwzZxoAimU"
      }
    },
    {
      "cell_type": "markdown",
      "source": [
        "#### What do you suggest the client to achieve Business Objective ?\n",
        "Explain Briefly."
      ],
      "metadata": {
        "id": "8G2x9gOozGDZ"
      }
    },
    {
      "cell_type": "markdown",
      "source": [
        "\n",
        "\n",
        " Based on the insights gained from the data analysis, the following suggestions are made to the client to achieve their business objective:\n",
        "\n",
        " 1. Focus on reducing cancellations:\n",
        " - Offer incentives or discounts to guests who book directly through the hotel's website or call center.\n",
        " - Explore ways to reduce the number of cancellations by offering more flexible cancellation policies or by providing guests with more information about the hotel and its amenities.\n",
        " - Consider offering additional services or amenities to guests who book through high-risk channels.\n",
        " - Explore ways to improve the customer experience for guests who book through high-risk channels.\n",
        "\n",
        " 2. Improve customer satisfaction:\n",
        " - Offer discounts or packages for guests who book longer stays.\n",
        " - Consider offering additional amenities or services to guests who stay for longer periods of time.\n",
        " - Personalize the guest experience by offering tailored recommendations and services based on their preferences and past behavior.\n",
        " - Continuously monitor and address guest feedback to identify areas for improvement.\n",
        "\n",
        " 3. Optimize pricing:\n",
        " - Use data analysis to identify optimal pricing strategies for different room types, seasons, and market segments.\n",
        " - Offer dynamic pricing based on demand and availability.\n",
        " - Consider implementing revenue management strategies to maximize occupancy and revenue.\n",
        "\n",
        " 4. Enhance marketing and distribution channels:\n",
        " - Focus on strengthening relationships with existing distribution channels.\n",
        " - Explore new distribution channels to reach a wider audience.\n",
        " - Use data analysis to identify and target specific market segments with tailored marketing campaigns.\n",
        " - Continuously monitor and evaluate the effectiveness of marketing campaigns and distribution channels.\n",
        "\n",
        " 5. Improve operational efficiency:\n",
        " - Use data analysis to identify areas where operational efficiency can be improved.\n",
        " - Implement technology solutions to streamline processes and reduce costs.\n",
        " - Train and empower employees to provide excellent customer service and resolve guest issues promptly.\n",
        "\n",
        "By implementing these suggestions, the client can improve their overall business performance and achieve their desired business objectives."
      ],
      "metadata": {
        "id": "pASKb0qOza21"
      }
    },
    {
      "cell_type": "markdown",
      "source": [
        "# **Conclusion**"
      ],
      "metadata": {
        "id": "gCX9965dhzqZ"
      }
    },
    {
      "cell_type": "markdown",
      "source": [
        "1. The guests showed a preference for City hotels, making it the busiest type of hotel.\n",
        "2. 27.5% of all bookings were cancelled.\n",
        "3. Only 3.9% of guests revisited the hotels, indicating a low retention rate.\n",
        "4. Over 82% of bookings had 0 changes made, while around 10% had single changes made..\n",
        "9. Most bookings for City and Resort hotels were made in 2016.\n",
        "10. City hotels generated more revenue than Resort hotels, with higher average ADR.\n",
        "11. City hotels had a higher booking cancellation rate of almost 30%.\n",
        "12. Resort hotels had a higher average lead time.\n",
        "13. Waiting time was higher for City hotels compared to Resort hotels, indicating City hotels were busier.\n",
        "14. Resort hotels had the highest number of repeated guests.\n",
        "15. The optimal stay for both types of hotels was less than 7 days, with people typically staying for a week.\n",
        "16. About 19% of people did not cancel their bookings despite not getting the reserved room, while only 2.5% cancelled their booking.\n",
        "\n",
        "In conclusion, the data analysis conducted on the hotel booking dataset has provided valuable insights that can be used to improve the hotel's operations and increase its profitability. The insights gained from the data analysis can be used to:\n",
        "\n",
        "- Identify trends and patterns in guest behavior.\n",
        "- Optimize pricing strategies.\n",
        "- Improve customer satisfaction.\n",
        "- Enhance marketing and distribution channels.\n",
        "- Improve operational efficiency.\n",
        "\n",
        "By implementing the suggestions made in this report, the hotel can achieve its business objective of increasing revenue and profitability. The hotel should continue to monitor its performance and make adjustments to its strategies as needed.\n"
      ],
      "metadata": {
        "id": "Fjb1IsQkh3yE"
      }
    },
    {
      "cell_type": "markdown",
      "source": [
        "### ***Hurrah! You have successfully completed your EDA Capstone Project !!!***"
      ],
      "metadata": {
        "id": "gIfDvo9L0UH2"
      }
    }
  ]
}